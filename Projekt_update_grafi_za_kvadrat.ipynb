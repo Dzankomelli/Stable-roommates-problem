{
 "cells": [
  {
   "cell_type": "markdown",
   "metadata": {
    "collapsed": false
   },
   "source": [
    "Uvozimo potrebne knjižnice za manipulacijo s podatki:"
   ]
  },
  {
   "cell_type": "code",
   "execution_count": 0,
   "metadata": {
    "collapsed": false
   },
   "outputs": [
   ],
   "source": [
   ]
  },
  {
   "cell_type": "code",
   "execution_count": 2,
   "metadata": {
    "collapsed": false
   },
   "outputs": [
   ],
   "source": [
    "import random\n",
    "import math\n",
    "import matplotlib.pylab as plt"
   ]
  },
  {
   "cell_type": "markdown",
   "metadata": {
    "collapsed": false
   },
   "source": [
    "Najprej določimo točke v kvadratu velikosti 1x1. Točke so določena z dvema koordinatama (x,y), kjer x označuje premik po vodoravni stranici, y pa premik po navpični stranici. \n",
    "\n",
    "Oglišča kvadrata so (0,0), (0,1), (1,0), (1,1)."
   ]
  },
  {
   "cell_type": "code",
   "execution_count": 11,
   "metadata": {
    "collapsed": false
   },
   "outputs": [
   ],
   "source": [
    "def kvadrat_tock(st_tock):\n",
    "    slovar_tock = {}\n",
    "    for i in range(st_tock):\n",
    "        x = random.random()\n",
    "        y = random.random()\n",
    "        slovar_tock['tocka_' + str(i)] = (x,y)\n",
    "    return slovar_tock\n",
    "\n",
    "tocke = kvadrat_tock(8)\n",
    "primer_1 = {'tocka_0': (0.1, 0.1), 'tocka_1': (0.2, 0.1),  'tocka_2': (0.1,\n",
    "0.2),  'tocka_3': (0.2, 0.2)}\n",
    "\n",
    "primer_2 = {'tocka_0': (0.1, 0.1), 'tocka_1': (0.2, 0.1), 'tocka_2': (0.3, 0.1),  'tocka_3': (0.4, 0.1),\n",
    "           'tocka_4': (0.5, 0.1), 'tocka_5': (0.6, 0.1), 'tocka_6': (0.7, 0.1),  'tocka_7': (0.8, 0.1),\n",
    "           'tocka_8': (0.9, 0.1), 'tocka_9': (1, 0.1)}\n",
    "\n",
    "primer_3 = {'tocka_0': (0, 0), 'tocka_1': (0, 1/3), 'tocka_2': (0, 2/3),  'tocka_3': (0, 1),\n",
    "           'tocka_4': (1/3, 0), 'tocka_5': (1/3, 1/3), 'tocka_6': (1/3, 2/3),  'tocka_7': (1/3, 1),\n",
    "           'tocka_8': (2/3, 0), 'tocka_9': (2/3, 1/3), 'tocka_10': (2/3, 2/3),  'tocka_11': (2/3, 1)}"
   ]
  },
  {
   "cell_type": "markdown",
   "metadata": {
    "collapsed": false
   },
   "source": [
    "Razdalje med točkami izračunamo s pomočjo Pitagorovega izreka."
   ]
  },
  {
   "cell_type": "code",
   "execution_count": 12,
   "metadata": {
    "collapsed": false
   },
   "outputs": [
   ],
   "source": [
    "def razdalje(slovar):\n",
    "    slovar_razdalj = {}\n",
    "    #a^2 + b^2 = c^2\n",
    "    for key1 in slovar.keys():\n",
    "        seznam_razdalj = []\n",
    "        # for key in slovar.keys()\n",
    "        for key2 in slovar.keys():\n",
    "            if key1 == key2:\n",
    "                continue\n",
    "            delta_x = slovar[key1][0] - slovar[key2][0]\n",
    "            delta_y = slovar[key1][1] - slovar[key2][1]\n",
    "            razdalja = sqrt(delta_x^2 + delta_y^2)\n",
    "            seznam_razdalj.append((key2,razdalja))\n",
    "        slovar_razdalj[key1] = seznam_razdalj\n",
    "    return(slovar_razdalj)\n",
    "\n",
    "#razdalje(tocke)"
   ]
  },
  {
   "cell_type": "markdown",
   "metadata": {
    "collapsed": false
   },
   "source": [
    "Posamezna razdalja nam predstavlja preferenco (manjša kot je razdalja, večja je preferenca). Le te uredimo po velikosti, od najmanjše do največje, za vsako točko:"
   ]
  },
  {
   "cell_type": "code",
   "execution_count": 13,
   "metadata": {
    "collapsed": false
   },
   "outputs": [
   ],
   "source": [
    "def preference(slovar_razdalj):\n",
    "    for key in slovar_razdalj.keys():\n",
    "        sorted_by_second = sorted(slovar_razdalj[key], key=lambda tup: tup[1])\n",
    "        slovar_razdalj[key] = sorted_by_second\n",
    "    return(slovar_razdalj)\n",
    "\n",
    "#preference(razdalje(tocke))"
   ]
  },
  {
   "cell_type": "markdown",
   "metadata": {
    "collapsed": false
   },
   "source": [
    "Algoritem je sestavljen iz dveh funkcij:\n",
    "1) funkcija \"Najkrajsa\"  pregleda razdalje med točkami. Ko najde najmanjšo razdaljo izmed vseh, izbere tisti dve točki, med katerima ta razdalja nastopi in ju poveže v par. Na koncu nam vrne par točk, s pripadajočo najmanjšo razdaljo."
   ]
  },
  {
   "cell_type": "code",
   "execution_count": 14,
   "metadata": {
    "collapsed": false
   },
   "outputs": [
    {
     "data": {
      "text/plain": [
       "(['tocka_5', 'tocka_2'], 0.05524521926449958)"
      ]
     },
     "execution_count": 14,
     "metadata": {
     },
     "output_type": "execute_result"
    }
   ],
   "source": [
    "def Najkrajsa(slovar):\n",
    "    min_razdalja = sqrt(2)\n",
    "    par = []\n",
    "    for key1 in slovar.keys():\n",
    "        #nastavimo min_razdaljo na najmanjso ki nastopa v slovarju\n",
    "        if slovar[key1][0][1] <= min_razdalja:\n",
    "            min_razdalja = slovar[key1][0][1]\n",
    "\n",
    "    for key2 in slovar.keys():\n",
    "        if slovar[key2][0][1] == min_razdalja:\n",
    "            par = [slovar[key2][0][0], key2]\n",
    "            break\n",
    "\n",
    "    return(par, min_razdalja)\n",
    "\n",
    "\n",
    "Najkrajsa(preference(razdalje(tocke)))"
   ]
  },
  {
   "cell_type": "markdown",
   "metadata": {
    "collapsed": false
   },
   "source": [
    "2) funkcija \"Vsi_pari\" nam omogoči, da se čez 1. funckijo zapeljemo tolikokrat kolikokrat je potrebno in povežemo vse točke v pare. Na koncu nam vrne seznam vseh parov."
   ]
  },
  {
   "cell_type": "code",
   "execution_count": 20,
   "metadata": {
    "collapsed": false
   },
   "outputs": [
    {
     "data": {
      "text/plain": [
       "[['tocka_1', 'tocka_0'],\n",
       " ['tocka_3', 'tocka_2'],\n",
       " ['tocka_5', 'tocka_4'],\n",
       " ['tocka_7', 'tocka_6'],\n",
       " ['tocka_9', 'tocka_8'],\n",
       " ['tocka_11', 'tocka_10']]"
      ]
     },
     "execution_count": 20,
     "metadata": {
     },
     "output_type": "execute_result"
    }
   ],
   "source": [
    "def Vsi_pari(slovar):\n",
    "    pari = []\n",
    "    for i in range(len(slovar)/2):\n",
    "        (par, najkrajsa) = Najkrajsa(slovar)\n",
    "        for e in par:\n",
    "            # Izbrišemo točki v paru iz slovarja\n",
    "            if str(e) in slovar:\n",
    "                del slovar[str(e)]\n",
    "            # izbrišemo to preferenco še vsem točkam v slovarju\n",
    "            for elm in slovar.keys():\n",
    "                #print(elm, slovar[elm])\n",
    "                for tocka in slovar[elm]:\n",
    "                    if e in tocka:\n",
    "                        slovar[elm].remove(tocka)\n",
    "\n",
    "        pari.append(par)\n",
    "    return(pari)\n",
    "\n",
    "#Vsi_pari(preference(razdalje(tocke)))\n",
    "\n",
    "#Vsi_pari(preference(razdalje(primer_1)))\n",
    "#Vsi_pari(preference(razdalje(primer_2)))\n",
    "Vsi_pari(preference(razdalje(primer_3)))\n"
   ]
  },
  {
   "cell_type": "markdown",
   "metadata": {
    "collapsed": false
   },
   "source": [
    "S funkcijo \"vsota_razdalj\" izračunamo seštevek vseh razdalj med točkami, ki so skupaj v paru:"
   ]
  },
  {
   "cell_type": "code",
   "execution_count": 16,
   "metadata": {
    "collapsed": false
   },
   "outputs": [
    {
     "data": {
      "text/plain": [
       "1.001787717585637"
      ]
     },
     "execution_count": 16,
     "metadata": {
     },
     "output_type": "execute_result"
    }
   ],
   "source": [
    "def vsota_razdalj(slovar, pari):\n",
    "    vsota = 0\n",
    "    # Pogledamo vse pare v \"pari\", poiščemo točko ki nastopa v slovarju in vzamemo dolžino iz njenih preferenc do točke, s katero je v paru.\n",
    "    for e in pari:\n",
    "        for i in range(len(slovar[e[0]])):\n",
    "            if slovar[e[0]][i][0] == e[1]:\n",
    "                vsota += slovar[e[0]][i][1]\n",
    "    return(vsota)\n",
    "\n",
    "vsota_razdalj(preference(razdalje(tocke)),Vsi_pari(preference(razdalje(tocke))))"
   ]
  },
  {
   "cell_type": "markdown",
   "metadata": {
    "collapsed": false
   },
   "source": [
    "Na koncu pa še s pomočjo sledeče funkcije analiziramo, kako se obnaša naša vsota razdalj, ko povečujemo število točk."
   ]
  },
  {
   "cell_type": "code",
   "execution_count": 9,
   "metadata": {
    "collapsed": false,
    "scrolled": true
   },
   "outputs": [
    {
     "name": "stdout",
     "output_type": "stream",
     "text": [
      "{0: 0, 10: 2.7798905216709797, 20: 4.7158080435236895, 30: 7.415282490304487, 40: 10.178585960972525, 50: 11.596665648013058, 60: 14.482242839678026, 70: 19.60558365883667, 80: 19.766974644496674, 90: 24.926572758252302, 100: 26.2640736414589, 110: 27.811047691147206, 120: 28.972210554645994, 130: 31.207560510676824, 140: 36.26955806218589, 150: 42.38042008378515, 160: 40.398345533193734, 170: 44.69978005522902, 180: 46.10119949889802, 190: 49.09997996686528, 200: 49.83976133674277}\n"
     ]
    },
    {
     "data": {
      "image/png": "[encoded data removed]",
      "text/plain": [
       "<Figure size 432x288 with 1 Axes>"
      ]
     },
     "execution_count": 9,
     "metadata": {
      "needs_background": "light"
     },
     "output_type": "execute_result"
    }
   ],
   "source": [
    "def razlicne_vsote(od, do, korak):\n",
    "    slovar_vsote={}\n",
    "    for i in range(od, do + 1, korak):\n",
    "        slovar_vsote[i]=  vsota_razdalj(preference(razdalje(kvadrat_tock(i))),Vsi_pari(preference(razdalje(kvadrat_tock(i)))))\n",
    "    return(slovar_vsote)\n",
    "\n",
    "slovar = razlicne_vsote(0,200,10)\n",
    "print(slovar)\n",
    "plt.plot(*zip(*sorted(slovar.items())))\n",
    "plt.show()"
   ]
  },
  {
   "cell_type": "code",
   "execution_count": 0,
   "metadata": {
    "collapsed": false
   },
   "outputs": [
   ],
   "source": [
   ]
  },
  {
   "cell_type": "code",
   "execution_count": 0,
   "metadata": {
    "collapsed": false
   },
   "outputs": [
   ],
   "source": [
   ]
  },
  {
   "cell_type": "code",
   "execution_count": 0,
   "metadata": {
    "collapsed": false
   },
   "outputs": [
   ],
   "source": [
   ]
  },
  {
   "cell_type": "code",
   "execution_count": 0,
   "metadata": {
    "collapsed": false
   },
   "outputs": [
   ],
   "source": [
   ]
  },
  {
   "cell_type": "code",
   "execution_count": 0,
   "metadata": {
    "collapsed": false
   },
   "outputs": [
   ],
   "source": [
   ]
  },
  {
   "cell_type": "code",
   "execution_count": 0,
   "metadata": {
    "collapsed": false
   },
   "outputs": [
   ],
   "source": [
   ]
  },
  {
   "cell_type": "code",
   "execution_count": 0,
   "metadata": {
    "collapsed": false
   },
   "outputs": [
   ],
   "source": [
   ]
  },
  {
   "cell_type": "code",
   "execution_count": 0,
   "metadata": {
    "collapsed": false
   },
   "outputs": [
   ],
   "source": [
   ]
  },
  {
   "cell_type": "code",
   "execution_count": 0,
   "metadata": {
    "collapsed": false
   },
   "outputs": [
   ],
   "source": [
   ]
  },
  {
   "cell_type": "code",
   "execution_count": 0,
   "metadata": {
    "collapsed": false
   },
   "outputs": [
   ],
   "source": [
   ]
  },
  {
   "cell_type": "code",
   "execution_count": 0,
   "metadata": {
    "collapsed": false
   },
   "outputs": [
   ],
   "source": [
   ]
  },
  {
   "cell_type": "code",
   "execution_count": 0,
   "metadata": {
    "collapsed": false
   },
   "outputs": [
   ],
   "source": [
   ]
  },
  {
   "cell_type": "code",
   "execution_count": 0,
   "metadata": {
    "collapsed": false
   },
   "outputs": [
   ],
   "source": [
   ]
  }
 ],
 "metadata": {
  "kernelspec": {
   "display_name": "SageMath 9.2",
   "language": "sagemath",
   "metadata": {
    "cocalc": {
     "description": "Open-source mathematical software system",
     "priority": 10,
     "url": "https://www.sagemath.org/"
    }
   },
   "name": "sage-9.2",
   "resource_dir": "/ext/jupyter/kernels/sage-9.2"
  },
  "language_info": {
   "codemirror_mode": {
    "name": "ipython",
    "version": 3
   },
   "file_extension": ".py",
   "mimetype": "text/x-python",
   "name": "python",
   "nbconvert_exporter": "python",
   "pygments_lexer": "ipython3",
   "version": "3.8.5"
  }
 },
 "nbformat": 4,
 "nbformat_minor": 4
}