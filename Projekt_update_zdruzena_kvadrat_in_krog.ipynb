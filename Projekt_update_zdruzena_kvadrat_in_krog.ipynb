{
 "cells": [
  {
   "cell_type": "markdown",
   "metadata": {
    "collapsed": false
   },
   "source": [
    "Uvozimo potrebne knjižnice za manipulacijo s podatki:"
   ]
  },
  {
   "cell_type": "code",
   "execution_count": 22,
   "metadata": {
    "collapsed": false
   },
   "outputs": [
   ],
   "source": [
    "import random\n",
    "import math\n",
    "import matplotlib.pylab as plt"
   ]
  },
  {
   "cell_type": "markdown",
   "metadata": {
    "collapsed": false
   },
   "source": [
    "Izbereva poljubne točke znotraj kroga s polmerom r, s središčem v točki (0,0)"
   ]
  },
  {
   "cell_type": "code",
   "execution_count": 43,
   "metadata": {
    "collapsed": false
   },
   "outputs": [
   ],
   "source": [
    "def kvadrat_tock_krog(st_tock):\n",
    "    slovar_tock = {}\n",
    "    for i in range(st_tock):\n",
    "        r = random.uniform(0,1/sqrt(math.pi))\n",
    "        alpha = 2 * math.pi * random.random()\n",
    "        x = r * math.cos(alpha)\n",
    "        y = r * math.sin(alpha)\n",
    "        slovar_tock['tocka_' + str(i)] = (x,y)\n",
    "    return slovar_tock\n",
    "sl = kvadrat_tock_krog(8)"
   ]
  },
  {
   "cell_type": "markdown",
   "metadata": {
    "collapsed": false
   },
   "source": [
    "Razdalje med točkami izračunamo s pomočjo Pitagorovega izreka."
   ]
  },
  {
   "cell_type": "code",
   "execution_count": 44,
   "metadata": {
    "collapsed": false
   },
   "outputs": [
    {
     "data": {
      "text/plain": [
       "{'tocka_0': [('tocka_1', 1.0283860442219368),\n",
       "  ('tocka_2', 0.8352346717628771),\n",
       "  ('tocka_3', 0.32295540171297243),\n",
       "  ('tocka_4', 0.8336319321851734),\n",
       "  ('tocka_5', 0.3896928364981777),\n",
       "  ('tocka_6', 0.4388872730399203),\n",
       "  ('tocka_7', 0.739060950383317)],\n",
       " 'tocka_1': [('tocka_0', 1.0283860442219368),\n",
       "  ('tocka_2', 0.28492416175269575),\n",
       "  ('tocka_3', 0.716602443179222),\n",
       "  ('tocka_4', 0.196919897363939),\n",
       "  ('tocka_5', 0.7180968949518807),\n",
       "  ('tocka_6', 1.0649205731401596),\n",
       "  ('tocka_7', 0.43622775575062145)],\n",
       " 'tocka_2': [('tocka_0', 0.8352346717628771),\n",
       "  ('tocka_1', 0.28492416175269575),\n",
       "  ('tocka_3', 0.5122934688724816),\n",
       "  ('tocka_4', 0.1624928157674811),\n",
       "  ('tocka_5', 0.4766507112601853),\n",
       "  ('tocka_6', 0.7969009550886499),\n",
       "  ('tocka_7', 0.4765711579146138)],\n",
       " 'tocka_3': [('tocka_0', 0.32295540171297243),\n",
       "  ('tocka_1', 0.716602443179222),\n",
       "  ('tocka_2', 0.5122934688724816),\n",
       "  ('tocka_4', 0.5198527525517694),\n",
       "  ('tocka_5', 0.12686940811164982),\n",
       "  ('tocka_6', 0.4474421850225398),\n",
       "  ('tocka_7', 0.5053796027409476)],\n",
       " 'tocka_4': [('tocka_0', 0.8336319321851734),\n",
       "  ('tocka_1', 0.196919897363939),\n",
       "  ('tocka_2', 0.1624928157674811),\n",
       "  ('tocka_3', 0.5198527525517694),\n",
       "  ('tocka_5', 0.5238880235661235),\n",
       "  ('tocka_6', 0.8778601013987017),\n",
       "  ('tocka_7', 0.33191537505333946)],\n",
       " 'tocka_5': [('tocka_0', 0.3896928364981777),\n",
       "  ('tocka_1', 0.7180968949518807),\n",
       "  ('tocka_2', 0.4766507112601853),\n",
       "  ('tocka_3', 0.12686940811164982),\n",
       "  ('tocka_4', 0.5238880235661235),\n",
       "  ('tocka_6', 0.36948540073900454),\n",
       "  ('tocka_7', 0.5835663885804818)],\n",
       " 'tocka_6': [('tocka_0', 0.4388872730399203),\n",
       "  ('tocka_1', 1.0649205731401596),\n",
       "  ('tocka_2', 0.7969009550886499),\n",
       "  ('tocka_3', 0.4474421850225398),\n",
       "  ('tocka_4', 0.8778601013987017),\n",
       "  ('tocka_5', 0.36948540073900454),\n",
       "  ('tocka_7', 0.947562585318099)],\n",
       " 'tocka_7': [('tocka_0', 0.739060950383317),\n",
       "  ('tocka_1', 0.43622775575062145),\n",
       "  ('tocka_2', 0.4765711579146138),\n",
       "  ('tocka_3', 0.5053796027409476),\n",
       "  ('tocka_4', 0.33191537505333946),\n",
       "  ('tocka_5', 0.5835663885804818),\n",
       "  ('tocka_6', 0.947562585318099)]}"
      ]
     },
     "execution_count": 44,
     "metadata": {
     },
     "output_type": "execute_result"
    }
   ],
   "source": [
    "def razdalje_krog(slovar):\n",
    "    slovar_razdalj = {}\n",
    "    #a^2 + b^2 = c^2\n",
    "    for key1 in slovar.keys():\n",
    "        seznam_razdalj = []\n",
    "        # for key in slovar.keys()\n",
    "        for key2 in slovar.keys():\n",
    "            if key1 == key2:\n",
    "                continue\n",
    "            delta_x = abs(slovar[key1][0] - slovar[key2][0])\n",
    "            delta_y = abs(slovar[key1][1] - slovar[key2][1])\n",
    "            razdalja = sqrt(delta_x^2 + delta_y^2)\n",
    "            seznam_razdalj.append((key2,razdalja))\n",
    "        slovar_razdalj[key1] = seznam_razdalj\n",
    "    return(slovar_razdalj)\n",
    "razdalje_krog(sl)"
   ]
  },
  {
   "cell_type": "markdown",
   "metadata": {
    "collapsed": false
   },
   "source": [
    "Posamezna razdalja nam predstavlja preferenco (manjša kot je razdalja, večja je preferenca). Le te uredimo po velikosti, od najmanjše do največje, za vsako točko:"
   ]
  },
  {
   "cell_type": "code",
   "execution_count": 45,
   "metadata": {
    "collapsed": false
   },
   "outputs": [
    {
     "data": {
      "text/plain": [
       "{'tocka_0': [('tocka_3', 0.32295540171297243),\n",
       "  ('tocka_5', 0.3896928364981777),\n",
       "  ('tocka_6', 0.4388872730399203),\n",
       "  ('tocka_7', 0.739060950383317),\n",
       "  ('tocka_4', 0.8336319321851734),\n",
       "  ('tocka_2', 0.8352346717628771),\n",
       "  ('tocka_1', 1.0283860442219368)],\n",
       " 'tocka_1': [('tocka_4', 0.196919897363939),\n",
       "  ('tocka_2', 0.28492416175269575),\n",
       "  ('tocka_7', 0.43622775575062145),\n",
       "  ('tocka_3', 0.716602443179222),\n",
       "  ('tocka_5', 0.7180968949518807),\n",
       "  ('tocka_0', 1.0283860442219368),\n",
       "  ('tocka_6', 1.0649205731401596)],\n",
       " 'tocka_2': [('tocka_4', 0.1624928157674811),\n",
       "  ('tocka_1', 0.28492416175269575),\n",
       "  ('tocka_7', 0.4765711579146138),\n",
       "  ('tocka_5', 0.4766507112601853),\n",
       "  ('tocka_3', 0.5122934688724816),\n",
       "  ('tocka_6', 0.7969009550886499),\n",
       "  ('tocka_0', 0.8352346717628771)],\n",
       " 'tocka_3': [('tocka_5', 0.12686940811164982),\n",
       "  ('tocka_0', 0.32295540171297243),\n",
       "  ('tocka_6', 0.4474421850225398),\n",
       "  ('tocka_7', 0.5053796027409476),\n",
       "  ('tocka_2', 0.5122934688724816),\n",
       "  ('tocka_4', 0.5198527525517694),\n",
       "  ('tocka_1', 0.716602443179222)],\n",
       " 'tocka_4': [('tocka_2', 0.1624928157674811),\n",
       "  ('tocka_1', 0.196919897363939),\n",
       "  ('tocka_7', 0.33191537505333946),\n",
       "  ('tocka_3', 0.5198527525517694),\n",
       "  ('tocka_5', 0.5238880235661235),\n",
       "  ('tocka_0', 0.8336319321851734),\n",
       "  ('tocka_6', 0.8778601013987017)],\n",
       " 'tocka_5': [('tocka_3', 0.12686940811164982),\n",
       "  ('tocka_6', 0.36948540073900454),\n",
       "  ('tocka_0', 0.3896928364981777),\n",
       "  ('tocka_2', 0.4766507112601853),\n",
       "  ('tocka_4', 0.5238880235661235),\n",
       "  ('tocka_7', 0.5835663885804818),\n",
       "  ('tocka_1', 0.7180968949518807)],\n",
       " 'tocka_6': [('tocka_5', 0.36948540073900454),\n",
       "  ('tocka_0', 0.4388872730399203),\n",
       "  ('tocka_3', 0.4474421850225398),\n",
       "  ('tocka_2', 0.7969009550886499),\n",
       "  ('tocka_4', 0.8778601013987017),\n",
       "  ('tocka_7', 0.947562585318099),\n",
       "  ('tocka_1', 1.0649205731401596)],\n",
       " 'tocka_7': [('tocka_4', 0.33191537505333946),\n",
       "  ('tocka_1', 0.43622775575062145),\n",
       "  ('tocka_2', 0.4765711579146138),\n",
       "  ('tocka_3', 0.5053796027409476),\n",
       "  ('tocka_5', 0.5835663885804818),\n",
       "  ('tocka_0', 0.739060950383317),\n",
       "  ('tocka_6', 0.947562585318099)]}"
      ]
     },
     "execution_count": 45,
     "metadata": {
     },
     "output_type": "execute_result"
    }
   ],
   "source": [
    "def preference_krog(slovar_razdalj):\n",
    "    for key in slovar_razdalj.keys():\n",
    "        sorted_by_second = sorted(slovar_razdalj[key], key=lambda tup: tup[1])\n",
    "        slovar_razdalj[key] = sorted_by_second\n",
    "    return(slovar_razdalj)\n",
    "preference_krog(razdalje_krog(sl))"
   ]
  },
  {
   "cell_type": "markdown",
   "metadata": {
    "collapsed": false
   },
   "source": [
    "Algoritem je sestavljen iz dveh funkcij:\n",
    "1) funkcija \"Najkrajsa\"  pregleda razdalje med točkami. Ko najde najmanjšo razdaljo izmed vseh, izbere tisti dve točki, med katerima ta razdalja nastopi in ju poveže v par. Na koncu nam vrne par točk, s pripadajočo najmanjšo razdaljo."
   ]
  },
  {
   "cell_type": "code",
   "execution_count": 47,
   "metadata": {
    "collapsed": false
   },
   "outputs": [
    {
     "data": {
      "text/plain": [
       "(['tocka_5', 'tocka_3'], 0.12686940811164982)"
      ]
     },
     "execution_count": 47,
     "metadata": {
     },
     "output_type": "execute_result"
    }
   ],
   "source": [
    "def Najkrajsa_krog(slovar):\n",
    "    min_razdalja = 2*(1/sqrt(math.pi))\n",
    "    par = []\n",
    "    for key1 in slovar.keys():\n",
    "        #nastavimo min_razdaljo na najmanjso ki nastopa v slovarju\n",
    "        if slovar[key1][0][1] <= min_razdalja:\n",
    "            min_razdalja = slovar[key1][0][1]\n",
    "\n",
    "    for key2 in slovar.keys():\n",
    "        if slovar[key2][0][1] == min_razdalja:\n",
    "            par = [slovar[key2][0][0], key2]\n",
    "            break\n",
    "\n",
    "    return(par, min_razdalja)\n",
    "Najkrajsa_krog(preference_krog(razdalje_krog(sl)))"
   ]
  },
  {
   "cell_type": "markdown",
   "metadata": {
    "collapsed": false
   },
   "source": [
    "2) funkcija \"Vsi_pari\" nam omogoči, da se čez 1. funckijo zapeljemo tolikokrat kolikokrat je potrebno in povežemo vse točke v pare. Na koncu nam vrne seznam vseh parov."
   ]
  },
  {
   "cell_type": "code",
   "execution_count": 50,
   "metadata": {
    "collapsed": false
   },
   "outputs": [
    {
     "data": {
      "text/plain": [
       "[['tocka_5', 'tocka_3'],\n",
       " ['tocka_4', 'tocka_2'],\n",
       " ['tocka_7', 'tocka_1'],\n",
       " ['tocka_6', 'tocka_0']]"
      ]
     },
     "execution_count": 50,
     "metadata": {
     },
     "output_type": "execute_result"
    }
   ],
   "source": [
    "def Vsi_pari_krog(slovar):\n",
    "    pari = []\n",
    "    for i in range(len(slovar)/2):\n",
    "        (par, najkrajsa) = Najkrajsa_krog(slovar)\n",
    "        for e in par:\n",
    "            # Izbrišemo točki v paru iz slovarja\n",
    "            if str(e) in slovar:\n",
    "                del slovar[str(e)]\n",
    "            # izbrišemo to preferenco še vsem točkam v slovarju\n",
    "            for elm in slovar.keys():\n",
    "                #print(elm, slovar[elm])\n",
    "                for tocka in slovar[elm]:\n",
    "                    if e in tocka:\n",
    "                        slovar[elm].remove(tocka)\n",
    "\n",
    "        pari.append(par)\n",
    "    return(pari)\n",
    "Vsi_pari_krog(preference_krog(razdalje_krog(sl)))"
   ]
  },
  {
   "cell_type": "markdown",
   "metadata": {
    "collapsed": false
   },
   "source": [
    "S funkcijo \"vsota_razdalj\" izračunamo seštevek vseh razdalj med točkami, ki so skupaj v paru:"
   ]
  },
  {
   "cell_type": "code",
   "execution_count": 28,
   "metadata": {
    "collapsed": false
   },
   "outputs": [
   ],
   "source": [
    "def vsota_razdalj_krog(slovar, pari):\n",
    "    vsota = 0\n",
    "    # Pogledamo vse pare v \"pari\", poiščemo točko ki nastopa v slovarju in vzamemo dolžino iz njenih preferenc do točke, s katero je v paru.\n",
    "    for e in pari:\n",
    "        for i in range(len(slovar[e[0]])):\n",
    "            if slovar[e[0]][i][0] == e[1]:\n",
    "                vsota += slovar[e[0]][i][1]\n",
    "    return(vsota)"
   ]
  },
  {
   "cell_type": "markdown",
   "metadata": {
    "collapsed": false
   },
   "source": [
    "Na koncu pa še s pomočjo sledeče funkcije analiziramo, kako se obnaša naša vsota razdalj, ko povečujemo število točk."
   ]
  },
  {
   "cell_type": "code",
   "execution_count": 29,
   "metadata": {
    "collapsed": false
   },
   "outputs": [
   ],
   "source": [
    "def kvadrat_tock(st_tock):\n",
    "    slovar_tock = {}\n",
    "    for i in range(st_tock):\n",
    "        x = random.random()\n",
    "        y = random.random()\n",
    "        slovar_tock['tocka_' + str(i)] = (x,y)\n",
    "    return slovar_tock"
   ]
  },
  {
   "cell_type": "code",
   "execution_count": 30,
   "metadata": {
    "collapsed": false
   },
   "outputs": [
   ],
   "source": [
    "def razdalje(slovar):\n",
    "    slovar_razdalj = {}\n",
    "    #a^2 + b^2 = c^2\n",
    "    for key1 in slovar.keys():\n",
    "        seznam_razdalj = []\n",
    "        # for key in slovar.keys()\n",
    "        for key2 in slovar.keys():\n",
    "            if key1 == key2:\n",
    "                continue\n",
    "            delta_x = slovar[key1][0] - slovar[key2][0]\n",
    "            delta_y = slovar[key1][1] - slovar[key2][1]\n",
    "            razdalja = sqrt(delta_x^2 + delta_y^2)\n",
    "            seznam_razdalj.append((key2,razdalja))\n",
    "        slovar_razdalj[key1] = seznam_razdalj\n",
    "    return(slovar_razdalj)\n"
   ]
  },
  {
   "cell_type": "code",
   "execution_count": 31,
   "metadata": {
    "collapsed": false
   },
   "outputs": [
   ],
   "source": [
    "def preference(slovar_razdalj):\n",
    "    for key in slovar_razdalj.keys():\n",
    "        sorted_by_second = sorted(slovar_razdalj[key], key=lambda tup: tup[1])\n",
    "        slovar_razdalj[key] = sorted_by_second\n",
    "    return(slovar_razdalj)"
   ]
  },
  {
   "cell_type": "code",
   "execution_count": 32,
   "metadata": {
    "collapsed": false
   },
   "outputs": [
   ],
   "source": [
    "def Najkrajsa(slovar):\n",
    "    min_razdalja = sqrt(2)\n",
    "    par = []\n",
    "    for key1 in slovar.keys():\n",
    "        #nastavimo min_razdaljo na najmanjso ki nastopa v slovarju\n",
    "        if slovar[key1][0][1] <= min_razdalja:\n",
    "            min_razdalja = slovar[key1][0][1]\n",
    "\n",
    "    for key2 in slovar.keys():\n",
    "        if slovar[key2][0][1] == min_razdalja:\n",
    "            par = [slovar[key2][0][0], key2]\n",
    "            break\n",
    "\n",
    "    return(par, min_razdalja)"
   ]
  },
  {
   "cell_type": "code",
   "execution_count": 33,
   "metadata": {
    "collapsed": false
   },
   "outputs": [
   ],
   "source": [
    "def Vsi_pari(slovar):\n",
    "    pari = []\n",
    "    for i in range(len(slovar)/2):\n",
    "        (par, najkrajsa) = Najkrajsa(slovar)\n",
    "        for e in par:\n",
    "            # Izbrišemo točki v paru iz slovarja\n",
    "            if str(e) in slovar:\n",
    "                del slovar[str(e)]\n",
    "            # izbrišemo to preferenco še vsem točkam v slovarju\n",
    "            for elm in slovar.keys():\n",
    "                #print(elm, slovar[elm])\n",
    "                for tocka in slovar[elm]:\n",
    "                    if e in tocka:\n",
    "                        slovar[elm].remove(tocka)\n",
    "\n",
    "        pari.append(par)\n",
    "    return(pari)"
   ]
  },
  {
   "cell_type": "code",
   "execution_count": 34,
   "metadata": {
    "collapsed": false
   },
   "outputs": [
   ],
   "source": [
    "def vsota_razdalj(slovar, pari):\n",
    "    vsota = 0\n",
    "    # Pogledamo vse pare v \"pari\", poiščemo točko ki nastopa v slovarju in vzamemo dolžino iz njenih preferenc do točke, s katero je v paru.\n",
    "    for e in pari:\n",
    "        for i in range(len(slovar[e[0]])):\n",
    "            if slovar[e[0]][i][0] == e[1]:\n",
    "                vsota += slovar[e[0]][i][1]\n",
    "    return(vsota)"
   ]
  },
  {
   "cell_type": "code",
   "execution_count": 35,
   "metadata": {
    "collapsed": false
   },
   "outputs": [
   ],
   "source": [
    "def razlicne_vsote(od, do, korak):\n",
    "    slovar_vsote={}\n",
    "    for i in range(od, do + 1, korak):\n",
    "        slovar_vsote[i]=  vsota_razdalj(preference(razdalje(kvadrat_tock(i))),Vsi_pari(preference(razdalje(kvadrat_tock(i)))))\n",
    "    return(slovar_vsote)"
   ]
  },
  {
   "cell_type": "code",
   "execution_count": 36,
   "metadata": {
    "collapsed": false
   },
   "outputs": [
   ],
   "source": [
    "def razlicne_vsote_krog(od, do, korak):\n",
    "    slovar_vsote={}\n",
    "    for i in range(od, do + 1, korak):\n",
    "        slovar_vsote[i]=  vsota_razdalj_krog(preference_krog(razdalje_krog(kvadrat_tock_krog(i))),Vsi_pari_krog(preference_krog(razdalje_krog(kvadrat_tock_krog(i)))))\n",
    "    return(slovar_vsote)"
   ]
  },
  {
   "cell_type": "code",
   "execution_count": 37,
   "metadata": {
    "collapsed": false
   },
   "outputs": [
   ],
   "source": [
    "def povprecje_kvadrat(zacetek, konec, korak, ponovitve):\n",
    "    povprecje = {}\n",
    "    if ponovitve == 0:\n",
    "        return povprecje\n",
    "    base_slovar = razlicne_vsote(zacetek, konec, korak)\n",
    "    \n",
    "    \"\"\"zgeneriramo slovar tolikokrat kolikotr hocenmo ponovitev - 1 (base_slovar je prva ponovitev), \n",
    "    vsote pristecvamo v base slovar in koncen rezultat delimo s\n",
    "    stevilom ponovitev da dobimo povprecje\"\"\"\n",
    "    \n",
    "    for x in range(ponovitve - 1):\n",
    "        slovar = razlicne_vsote(zacetek, konec, korak)\n",
    "        for key, value in slovar.items():\n",
    "            base_slovar[key] += value\n",
    "    for key, value in base_slovar.items():\n",
    "        povprecje[key] = value / ponovitve\n",
    "    return povprecje"
   ]
  },
  {
   "cell_type": "code",
   "execution_count": 38,
   "metadata": {
    "collapsed": false
   },
   "outputs": [
   ],
   "source": [
    "def povprecje_krog(zacetek, konec, korak, ponovitve):\n",
    "    povprecje = {}\n",
    "    if ponovitve == 0:\n",
    "        return povprecje\n",
    "    base_slovar = razlicne_vsote_krog(zacetek, konec, korak)\n",
    "    \n",
    "    \"\"\"zgeneriramo slovar tolikokrat kolikotr hocenmo ponovitev - 1 (base_slovar je prva ponovitev), \n",
    "    vsote pristecvamo v base slovar in koncen rezultat delimo s\n",
    "    stevilom ponovitev da dobimo povprecje\"\"\"\n",
    "    \n",
    "    for x in range(ponovitve - 1):\n",
    "        slovar = razlicne_vsote_krog(zacetek, konec, korak)\n",
    "        for key, value in slovar.items():\n",
    "            base_slovar[key] += value\n",
    "    for key, value in base_slovar.items():\n",
    "        povprecje[key] = value / ponovitve\n",
    "    return povprecje"
   ]
  },
  {
   "cell_type": "code",
   "execution_count": 52,
   "metadata": {
    "collapsed": false
   },
   "outputs": [
    {
     "data": {
      "image/png": "[encoded data removed]",
      "text/plain": [
       "<Figure size 432x288 with 1 Axes>"
      ]
     },
     "execution_count": 52,
     "metadata": {
      "needs_background": "light"
     },
     "output_type": "execute_result"
    }
   ],
   "source": [
    "#slovar = razlicne_vsote(0,1000,50)\n",
    "#plt.plot(*zip(*sorted(slovar.items())),'r')\n",
    "\n",
    "kvadrat = povprecje_kvadrat(2, 200 ,20, 30)\n",
    "krog = povprecje_krog(2, 200 ,20, 30)\n",
    "\n",
    "plt.plot(*zip(*sorted(kvadrat.items())),'r')\n",
    "\n",
    "#slovar_krog = razlicne_vsote_krog(0,1000,50)\n",
    "#plt.plot(*zip(*sorted(slovar_krog.items())))\n",
    "plt.plot(*zip(*sorted(krog.items())))\n",
    "\n",
    "plt.show()"
   ]
  },
  {
   "cell_type": "code",
   "execution_count": 40,
   "metadata": {
    "collapsed": false
   },
   "outputs": [
    {
     "data": {
      "image/png": "[encoded data removed]",
      "text/plain": [
       "<Figure size 432x288 with 1 Axes>"
      ]
     },
     "execution_count": 40,
     "metadata": {
      "needs_background": "light"
     },
     "output_type": "execute_result"
    }
   ],
   "source": [
    "def tocke(st_tock):\n",
    "    for i in range(st_tock):\n",
    "        x = random.random()\n",
    "        y = random.random()\n",
    "        plt.plot(x,y,'ko',markersize=4.5)\n",
    "    return(plt.show())\n",
    "\n",
    "tocke(1000)"
   ]
  },
  {
   "cell_type": "code",
   "execution_count": 0,
   "metadata": {
    "collapsed": false
   },
   "outputs": [
   ],
   "source": [
   ]
  },
  {
   "cell_type": "code",
   "execution_count": 0,
   "metadata": {
    "collapsed": false
   },
   "outputs": [
   ],
   "source": [
   ]
  },
  {
   "cell_type": "code",
   "execution_count": 0,
   "metadata": {
    "collapsed": false
   },
   "outputs": [
   ],
   "source": [
   ]
  },
  {
   "cell_type": "code",
   "execution_count": 0,
   "metadata": {
    "collapsed": false
   },
   "outputs": [
   ],
   "source": [
   ]
  },
  {
   "cell_type": "code",
   "execution_count": 0,
   "metadata": {
    "collapsed": false
   },
   "outputs": [
   ],
   "source": [
   ]
  },
  {
   "cell_type": "code",
   "execution_count": 0,
   "metadata": {
    "collapsed": false
   },
   "outputs": [
   ],
   "source": [
   ]
  },
  {
   "cell_type": "code",
   "execution_count": 0,
   "metadata": {
    "collapsed": false
   },
   "outputs": [
   ],
   "source": [
   ]
  },
  {
   "cell_type": "code",
   "execution_count": 0,
   "metadata": {
    "collapsed": false
   },
   "outputs": [
   ],
   "source": [
   ]
  }
 ],
 "metadata": {
  "kernelspec": {
   "display_name": "SageMath 9.2",
   "language": "sagemath",
   "metadata": {
    "cocalc": {
     "description": "Open-source mathematical software system",
     "priority": 10,
     "url": "https://www.sagemath.org/"
    }
   },
   "name": "sage-9.2",
   "resource_dir": "/ext/jupyter/kernels/sage-9.2"
  },
  "language_info": {
   "codemirror_mode": {
    "name": "ipython",
    "version": 3
   },
   "file_extension": ".py",
   "mimetype": "text/x-python",
   "name": "python",
   "nbconvert_exporter": "python",
   "pygments_lexer": "ipython3",
   "version": "3.8.5"
  }
 },
 "nbformat": 4,
 "nbformat_minor": 4
}