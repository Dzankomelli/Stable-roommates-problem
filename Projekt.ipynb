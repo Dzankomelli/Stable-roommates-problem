{
 "cells": [
  {
   "cell_type": "markdown",
   "metadata": {
    "collapsed": false
   },
   "source": [
    "Uvozimo potrebne knjižnice za manipulacijo s podatki:"
   ]
  },
  {
   "cell_type": "code",
   "execution_count": 2,
   "metadata": {
    "collapsed": false
   },
   "outputs": [
   ],
   "source": [
    "import random\n",
    "import math"
   ]
  },
  {
   "cell_type": "markdown",
   "metadata": {
    "collapsed": false
   },
   "source": [
    "Najprej določimo točke v kvadratu velikosti 1x1. Točke so določena z dvema koordinatama (x,y), kjer x označuje premik po vodoravni stranici, y pa premik po navpični stranici. \n",
    "\n",
    "Oglišča kvadrata so (0,0), (0,1), (1,0), (1,1)."
   ]
  },
  {
   "cell_type": "code",
   "execution_count": 3,
   "metadata": {
    "collapsed": false
   },
   "outputs": [
    {
     "data": {
      "text/plain": [
       "{'tocka_0': (0.5025343756907436, 0.9138788811742462),\n",
       " 'tocka_1': (0.05324718022067354, 0.8447043688739839),\n",
       " 'tocka_2': (0.9405624089842918, 0.4708207661660043),\n",
       " 'tocka_3': (0.8879025225252024, 0.3412721065519527),\n",
       " 'tocka_4': (0.12662159603097278, 0.6134934374145571),\n",
       " 'tocka_5': (0.4621935861724069, 0.7192147793228212),\n",
       " 'tocka_6': (0.23865264049724522, 0.4733416836430392),\n",
       " 'tocka_7': (0.7511595918868562, 0.34769998966994453),\n",
       " 'tocka_8': (0.27378319779064575, 0.497595423256301),\n",
       " 'tocka_9': (0.19507600695063498, 0.10083803418207371)}"
      ]
     },
     "execution_count": 3,
     "metadata": {
     },
     "output_type": "execute_result"
    }
   ],
   "source": [
    "def kvadrat_tock(st_tock):\n",
    "    slovar_tock = {}\n",
    "    for i in range(st_tock):\n",
    "        x = random.random()\n",
    "        y = random.random()\n",
    "        slovar_tock['tocka_' + str(i)] = (x,y)\n",
    "    return slovar_tock\n",
    "\n",
    "tocke = kvadrat_tock(10)\n",
    "tocke"
   ]
  },
  {
   "cell_type": "markdown",
   "metadata": {
    "collapsed": false
   },
   "source": [
    "Razdalje med točkami izračunamo s pomočjo Pitagorovega izreka. Glede na položaj točk v prostoru moramo ločiti tri primere."
   ]
  },
  {
   "cell_type": "code",
   "execution_count": 4,
   "metadata": {
    "collapsed": false
   },
   "outputs": [
   ],
   "source": [
    "def razdalje(slovar_tock):\n",
    "    slovar_razdalj = {}\n",
    "    #a^2 + b^2 = c^2\n",
    "    for i in range(len(slovar_tock)):\n",
    "        seznam_razdalj = []\n",
    "        for j in range(len(slovar_tock)):\n",
    "            if (slovar_tock['tocka_'+str(i)][0] > slovar_tock['tocka_'+str(j)][0]) and (slovar_tock['tocka_'+str(i)][1] > slovar_tock['tocka_'+str(j)][1]):\n",
    "                delta_x = slovar_tock['tocka_'+str(i)][0] - slovar_tock['tocka_'+str(j)][0]\n",
    "                delta_y = slovar_tock['tocka_'+str(i)][1] - slovar_tock['tocka_'+str(j)][1]\n",
    "\n",
    "            elif (slovar_tock['tocka_'+str(i)][0] > slovar_tock['tocka_'+str(j)][0]) and (slovar_tock['tocka_'+str(i)][1] < slovar_tock['tocka_'+str(j)][1]):\n",
    "                delta_x = slovar_tock['tocka_'+str(i)][0] - slovar_tock['tocka_'+str(j)][0]\n",
    "                delta_y = slovar_tock['tocka_'+str(j)][1] - slovar_tock['tocka_'+str(i)][1]\n",
    "\n",
    "            else:\n",
    "                delta_x = slovar_tock['tocka_'+str(j)][0] - slovar_tock['tocka_'+str(i)][0]\n",
    "                delta_y = slovar_tock['tocka_'+str(j)][1] - slovar_tock['tocka_'+str(i)][1]\n",
    "\n",
    "            razdalja = sqrt(delta_x^2 + delta_y^2)\n",
    "            if j == i:\n",
    "                pass\n",
    "            else:\n",
    "                seznam_razdalj.append(('tocka_'+str(j),razdalja))\n",
    "        slovar_razdalj['tocka_'+str(i)] = seznam_razdalj\n",
    "    return(slovar_razdalj)\n",
    "\n",
    "#razdalje(tocke)"
   ]
  },
  {
   "cell_type": "markdown",
   "metadata": {
    "collapsed": false
   },
   "source": [
    "Posamezna razdalja nam predstavlja preferenco (manjša kot je razdalja, večja je preferenca). Le te uredimo po velikosti, od najmanjše do največje, za vsako točko:"
   ]
  },
  {
   "cell_type": "code",
   "execution_count": 5,
   "metadata": {
    "collapsed": false
   },
   "outputs": [
   ],
   "source": [
    "def preference(slovar_razdalj):\n",
    "    for i in range(len(slovar_razdalj)):\n",
    "        sorted_by_second = sorted(slovar_razdalj['tocka_'+str(i)], key=lambda tup: tup[1])\n",
    "        slovar_razdalj['tocka_'+str(i)] = sorted_by_second\n",
    "    return(slovar_razdalj)\n",
    "\n",
    "#preference(razdalje(tocke))"
   ]
  },
  {
   "cell_type": "markdown",
   "metadata": {
    "collapsed": false
   },
   "source": [
    "Algoritem je sestavljen iz dveh funkcij:\n",
    "1) funkcija \"Najkrajsa_update\"  pregleda razdalje med točkami. Ko najde najmanjšo razdaljo izmed vseh, izbere tisti dve točki, med katerima ta razdalja nastopi in ju poveže v par. Iz slovarja ju nato izbriše, prav tako pa ju izbriše kot preferenco pri ostalih točkah. Na koncu nam vrne par točk, s pripadajočo najmanjšo razdaljo."
   ]
  },
  {
   "cell_type": "code",
   "execution_count": 6,
   "metadata": {
    "collapsed": false
   },
   "outputs": [
    {
     "data": {
      "text/plain": [
       "(['tocka_6', 'tocka_8'], 0.0426895764909047)"
      ]
     },
     "execution_count": 6,
     "metadata": {
     },
     "output_type": "execute_result"
    }
   ],
   "source": [
    "def Najkrajsa_update(slovar):\n",
    "    min_razdalja = sqrt(2)\n",
    "    par = []\n",
    "    elementi = []\n",
    "    while True:\n",
    "        for key in slovar.keys():\n",
    "            #print(key)\n",
    "            if slovar[key][0][1] <= min_razdalja:\n",
    "                    min_razdalja = slovar[key][0][1]\n",
    "                    elementi.append([key, min_razdalja])\n",
    "                    #print('ELEMENTI', elementi)\n",
    "        # preverimo, če je dovolj elementov za par\n",
    "        if len(elementi) >= 2:\n",
    "            # Iz elementov vzamemo samo tocki, ki imata najmanjso razdaljo\n",
    "            for e in elementi:\n",
    "                #print(e)\n",
    "                if e[1] == min_razdalja:\n",
    "                    par.append(e[0])\n",
    "            return(par, min_razdalja)\n",
    "\n",
    "\n",
    "Najkrajsa_update(preference(razdalje(tocke)))"
   ]
  },
  {
   "cell_type": "markdown",
   "metadata": {
    "collapsed": false
   },
   "source": [
    "2) funkcija \"Vsi_pari\" nam omogoči, da se čez 1. funckijo zapeljemo tolikokrat kolikokrat je potrebno in povežemo vse točke v pare. Na koncu nam vrne seznam vseh parov."
   ]
  },
  {
   "cell_type": "code",
   "execution_count": 7,
   "metadata": {
    "collapsed": false
   },
   "outputs": [
   ],
   "source": [
    "def Vsi_pari(slovar):\n",
    "    pari = []\n",
    "    for i in range(len(slovar)/2):\n",
    "        (par, najkrajsa) = Najkrajsa_update(slovar)\n",
    "        for e in par:\n",
    "            # Izbrišemo točki v paru iz slovarja\n",
    "            if str(e) in slovar:\n",
    "                del slovar[str(e)]\n",
    "            # izbrišemo to preferenco še vsem točkam v slovarju\n",
    "            for elm in slovar.keys():\n",
    "                #print(elm, slovar[elm])\n",
    "                for tocka in slovar[elm]:\n",
    "                    if e in tocka:\n",
    "                        slovar[elm].remove(tocka)\n",
    "\n",
    "        pari.append(par)\n",
    "    return(pari)\n",
    "\n",
    "#Vsi_pari(preference(razdalje(tocke)))"
   ]
  },
  {
   "cell_type": "markdown",
   "metadata": {
    "collapsed": false
   },
   "source": [
    "S funkcijo \"vsota_razdalj\" izračunamo seštevek vseh razdalj med točkami, ki so skupaj v paru:"
   ]
  },
  {
   "cell_type": "code",
   "execution_count": 8,
   "metadata": {
    "collapsed": false
   },
   "outputs": [
    {
     "data": {
      "text/plain": [
       "1.4532062288565089"
      ]
     },
     "execution_count": 8,
     "metadata": {
     },
     "output_type": "execute_result"
    }
   ],
   "source": [
    "def vsota_razdalj(slovar, pari):\n",
    "    vsota = 0\n",
    "    for key, item in slovar.items():\n",
    "        for par in pari:\n",
    "            if key in par and key == par[0]:\n",
    "                for element in item:\n",
    "                    if par[1] in element:\n",
    "                        vsota += element[1]\n",
    "                        pari.remove(par)\n",
    "    return(vsota)\n",
    "\n",
    "vsota_razdalj(preference(razdalje(tocke)),Vsi_pari(preference(razdalje(tocke))))"
   ]
  },
  {
   "cell_type": "markdown",
   "metadata": {
    "collapsed": false
   },
   "source": [
    "Na koncu pa še s pomočjo sledeče funkcije analiziramo, kako se obnaša naša vsota razdalj, ko povečujemo število točk."
   ]
  },
  {
   "cell_type": "code",
   "execution_count": 9,
   "metadata": {
    "collapsed": false,
    "scrolled": true
   },
   "outputs": [
    {
     "name": "stdout",
     "output_type": "stream",
     "text": [
      "0.9298530180132284\n",
      "3.8586681097002313\n",
      "6.379828362737815\n",
      "9.277079384121691\n",
      "11.366927871335461\n",
      "15.887419754485038\n",
      "17.065670927597296\n"
     ]
    },
    {
     "name": "stdout",
     "output_type": "stream",
     "text": [
      "17.787810576163942\n",
      "20.136844737632014\n"
     ]
    },
    {
     "name": "stdout",
     "output_type": "stream",
     "text": [
      "21.621399029196745\n"
     ]
    },
    {
     "name": "stdout",
     "output_type": "stream",
     "text": [
      "24.643114174801017\n",
      "29.98975573271246\n"
     ]
    },
    {
     "name": "stdout",
     "output_type": "stream",
     "text": [
      "31.693742866254105\n"
     ]
    },
    {
     "name": "stdout",
     "output_type": "stream",
     "text": [
      "34.379606289218934\n"
     ]
    },
    {
     "name": "stdout",
     "output_type": "stream",
     "text": [
      "34.79566106967871\n"
     ]
    },
    {
     "name": "stdout",
     "output_type": "stream",
     "text": [
      "44.12657475771048\n"
     ]
    },
    {
     "name": "stdout",
     "output_type": "stream",
     "text": [
      "40.89994125313418\n"
     ]
    },
    {
     "name": "stdout",
     "output_type": "stream",
     "text": [
      "43.803784057721\n"
     ]
    },
    {
     "name": "stdout",
     "output_type": "stream",
     "text": [
      "52.76418336866614\n"
     ]
    },
    {
     "name": "stdout",
     "output_type": "stream",
     "text": [
      "52.8579431997296\n"
     ]
    }
   ],
   "source": [
    "def razlicne_vsote(od, do, korak):\n",
    "    for i in range(od, do, korak):\n",
    "        yield(vsota_razdalj(preference(razdalje(kvadrat_tock(i))),Vsi_pari(preference(razdalje(kvadrat_tock(i))))))\n",
    "\n",
    "for i in razlicne_vsote(2, 202, 10):\n",
    "    print(i)"
   ]
  },
  {
   "cell_type": "code",
   "execution_count": 0,
   "metadata": {
    "collapsed": false
   },
   "outputs": [
   ],
   "source": [
   ]
  },
  {
   "cell_type": "code",
   "execution_count": 0,
   "metadata": {
    "collapsed": false
   },
   "outputs": [
   ],
   "source": [
   ]
  },
  {
   "cell_type": "code",
   "execution_count": 0,
   "metadata": {
    "collapsed": false
   },
   "outputs": [
   ],
   "source": [
   ]
  },
  {
   "cell_type": "code",
   "execution_count": 0,
   "metadata": {
    "collapsed": false
   },
   "outputs": [
   ],
   "source": [
   ]
  },
  {
   "cell_type": "code",
   "execution_count": 0,
   "metadata": {
    "collapsed": false
   },
   "outputs": [
   ],
   "source": [
   ]
  },
  {
   "cell_type": "code",
   "execution_count": 0,
   "metadata": {
    "collapsed": false
   },
   "outputs": [
   ],
   "source": [
   ]
  },
  {
   "cell_type": "code",
   "execution_count": 0,
   "metadata": {
    "collapsed": false
   },
   "outputs": [
   ],
   "source": [
   ]
  },
  {
   "cell_type": "code",
   "execution_count": 0,
   "metadata": {
    "collapsed": false
   },
   "outputs": [
   ],
   "source": [
   ]
  },
  {
   "cell_type": "code",
   "execution_count": 0,
   "metadata": {
    "collapsed": false
   },
   "outputs": [
   ],
   "source": [
   ]
  },
  {
   "cell_type": "markdown",
   "metadata": {
    "collapsed": false
   },
   "source": [
    "Jaz tole funkcijo Ujemanje cist ne razumem zakaj je bla tko zapisana. Ampak ostalo je ful dober napisan. Zdej kokr jaz vem oziroma kokr znam jaz naprej rešt je tkole. Jaz bi zdej nadaljeval naprej od preference(razdalje(kvadrat_tock(8))). Ta nama vrze zdej te urejene slovarje po velikosti in to je to kar rabiva. Pol naprej bi pa jaz tko naredu: Zdej morva uredit tiste, ki majo na prvi preferenci isto točko. In to bi nrdila svojo funkcijo. Se pravi, če imata dva (v našem primeru točka 4 in 6) na prvem mesti isto točko (v našem primeru imata točko 3), potem pogledamo k tej isti točki (točka 3), katera od teh dveh točk je na njenem seznamu prej (vidimo, da je to točka 4). Zato na seznamu točke 3 zbrišemo vse točke za točko 4. In za te točke, ki smo jih zbrisali, potem na njihovih seznamih zbrišemo točko 3. Potem avtomatsko dobimo novo prvo preferenčno točka na točki 6. In pol to funkcijo zapremo. Tko dobimo novo urejene sezname. \n",
    "\n",
    "ežko razložim ta del: Zdej pa ubistvu samo še pogledamo pri vsaki točki kaj je njena preferenčna točka in na seznamu te preferenčne funkcije  izbrišemo vse točke za tisto točko, ki ima to točko za preferenčno točko. in za te izbrisane točke še izbrišemo točke na njenem seznamu.\n"
   ]
  },
  {
   "cell_type": "code",
   "execution_count": 9,
   "metadata": {
    "collapsed": false
   },
   "outputs": [
    {
     "ename": "SyntaxError",
     "evalue": "invalid syntax (<ipython-input-9-3cf796c9e6f6>, line 8)",
     "output_type": "error",
     "traceback": [
      "\u001b[0;36m  File \u001b[0;32m\"<ipython-input-9-3cf796c9e6f6>\"\u001b[0;36m, line \u001b[0;32m8\u001b[0m\n\u001b[0;31m    if list(slovar.values())[i][Integer(0)][Integer(0)] = list(slovar.values())[j][Integer(0)][Integer(0)]:\u001b[0m\n\u001b[0m                                                        ^\u001b[0m\n\u001b[0;31mSyntaxError\u001b[0m\u001b[0;31m:\u001b[0m invalid syntax\n"
     ]
    }
   ],
   "source": [
    "def faza_1(slovar_preferenc):\n",
    "    reduciran_slovar = {}\n",
    "    for i in range(len(slovar_preferenc)):\n",
    "        kljuc_i = list(slovar.keys())[i]\n",
    "        for j in range(len(slovar_preferenc)):\n",
    "            kljuc_j = list(slovar.keys())[j]\n",
    "            if i!=j:\n",
    "                if list(slovar.values())[i][0][0] = list(slovar.values())[j][0][0]:\n",
    "                    ujemajoca_tocka = list(slovar.values())[i][0][0]\n",
    "                    seznam_ujemajoce_tocke = print(slovar['tocka_'+str(ujemajoca_tocka\n",
    "                    \n",
    "\n",
    "faza_1(preference(razdalje(kvadrat_tock(8))))"
   ]
  },
  {
   "cell_type": "code",
   "execution_count": 0,
   "metadata": {
    "collapsed": false
   },
   "outputs": [
   ],
   "source": [
   ]
  },
  {
   "cell_type": "code",
   "execution_count": 0,
   "metadata": {
    "collapsed": false
   },
   "outputs": [
   ],
   "source": [
   ]
  },
  {
   "cell_type": "code",
   "execution_count": 0,
   "metadata": {
    "collapsed": false
   },
   "outputs": [
   ],
   "source": [
   ]
  },
  {
   "cell_type": "code",
   "execution_count": 0,
   "metadata": {
    "collapsed": false
   },
   "outputs": [
   ],
   "source": [
   ]
  },
  {
   "cell_type": "code",
   "execution_count": 0,
   "metadata": {
    "collapsed": false
   },
   "outputs": [
   ],
   "source": [
   ]
  }
 ],
 "metadata": {
  "kernelspec": {
   "display_name": "SageMath 9.2",
   "language": "sagemath",
   "metadata": {
    "cocalc": {
     "description": "Open-source mathematical software system",
     "priority": 10,
     "url": "https://www.sagemath.org/"
    }
   },
   "name": "sage-9.2"
  },
  "language_info": {
   "codemirror_mode": {
    "name": "ipython",
    "version": 3
   },
   "file_extension": ".py",
   "mimetype": "text/x-python",
   "name": "python",
   "nbconvert_exporter": "python",
   "pygments_lexer": "ipython3",
   "version": "3.8.5"
  }
 },
 "nbformat": 4,
 "nbformat_minor": 4
}